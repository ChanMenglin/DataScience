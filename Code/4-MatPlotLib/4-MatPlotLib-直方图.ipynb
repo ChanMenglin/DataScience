{
 "cells": [
  {
   "cell_type": "markdown",
   "metadata": {},
   "source": [
    "# MatPlotLib-直方图"
   ]
  },
  {
   "cell_type": "code",
   "execution_count": 9,
   "metadata": {},
   "outputs": [],
   "source": [
    "import numpy as np\n",
    "import pandas as pd\n",
    "import matplotlib.pyplot as plt"
   ]
  },
  {
   "cell_type": "code",
   "execution_count": 10,
   "metadata": {},
   "outputs": [],
   "source": [
    "s = pd.Series(np.random.randn(1000))"
   ]
  },
  {
   "cell_type": "code",
   "execution_count": 11,
   "metadata": {},
   "outputs": [
    {
     "data": {
      "text/plain": [
       "(array([  3.,   2.,   1.,   6.,   9.,   3.,  18.,  25.,  43.,  56.,  55.,\n",
       "         58.,  56.,  87., 100.,  78.,  89.,  68.,  60.,  51.,  31.,  37.,\n",
       "         26.,  13.,  15.,   6.,   3.,   0.,   0.,   1.]),\n",
       " array([-3.06731585, -2.85738646, -2.64745707, -2.43752768, -2.22759829,\n",
       "        -2.0176689 , -1.80773951, -1.59781012, -1.38788073, -1.17795134,\n",
       "        -0.96802195, -0.75809256, -0.54816317, -0.33823378, -0.12830439,\n",
       "         0.081625  ,  0.29155439,  0.50148378,  0.71141317,  0.92134256,\n",
       "         1.13127195,  1.34120134,  1.55113073,  1.76106012,  1.97098951,\n",
       "         2.1809189 ,  2.39084829,  2.60077768,  2.81070707,  3.02063646,\n",
       "         3.23056585]),\n",
       " <a list of 30 Patch objects>)"
      ]
     },
     "execution_count": 11,
     "metadata": {},
     "output_type": "execute_result"
    },
    {
     "data": {
      "image/png": "[encoded data removed]",
      "text/plain": [
       "<Figure size 432x288 with 1 Axes>"
      ]
     },
     "metadata": {
      "needs_background": "light"
     },
     "output_type": "display_data"
    }
   ],
   "source": [
    "# 直方图（rwidth 为宽度，bins 为分割区间，默认10） \n",
    "plt.hist(s, rwidth=0.9, bins=30)"
   ]
  },
  {
   "cell_type": "code",
   "execution_count": null,
   "metadata": {},
   "outputs": [],
   "source": []
  }
 ],
 "metadata": {
  "kernelspec": {
   "display_name": "Python 3",
   "language": "python",
   "name": "python3"
  },
  "language_info": {
   "codemirror_mode": {
    "name": "ipython",
    "version": 3
   },
   "file_extension": ".py",
   "mimetype": "text/x-python",
   "name": "python",
   "nbconvert_exporter": "python",
   "pygments_lexer": "ipython3",
   "version": "3.7.7"
  }
 },
 "nbformat": 4,
 "nbformat_minor": 2
}
