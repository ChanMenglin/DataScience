{
 "cells": [
  {
   "cell_type": "code",
   "execution_count": 1,
   "metadata": {},
   "outputs": [],
   "source": [
    "import pandas_datareader as pdr\n",
    "import matplotlib.pyplot as plt"
   ]
  },
  {
   "cell_type": "code",
   "execution_count": 2,
   "metadata": {},
   "outputs": [],
   "source": [
    "# 获取 alibaba 股票信息\n",
    "alibaba = pdr.get_data_yahoo('BABA')"
   ]
  },
  {
   "cell_type": "code",
   "execution_count": 8,
   "metadata": {},
   "outputs": [
    {
     "data": {
      "text/plain": [
       "(1066, 6)"
      ]
     },
     "execution_count": 8,
     "metadata": {},
     "output_type": "execute_result"
    }
   ],
   "source": [
    "alibaba.shape"
   ]
  },
  {
   "cell_type": "code",
   "execution_count": 3,
   "metadata": {},
   "outputs": [
    {
     "output_type": "execute_result",
     "data": {
      "text/plain": "              High          Low         Open        Close        Volume  \\\ncount  1259.000000  1259.000000  1259.000000  1259.000000  1.259000e+03   \nmean    143.072923   139.615778   141.463369   141.377832  1.680998e+07   \nstd      48.732859    47.617872    48.256866    48.192864  9.100783e+06   \nmin      58.650002    57.200001    57.299999    57.389999  3.775300e+06   \n25%      91.570000    89.535000    90.514999    90.510002  1.099705e+07   \n50%     158.050003   153.100006   155.470001   155.970001  1.481240e+07   \n75%     183.610001   179.125000   181.254997   181.409996  2.003585e+07   \nmax     231.139999   227.039993   230.050003   230.479996  9.791410e+07   \n\n         Adj Close  \ncount  1259.000000  \nmean    141.377832  \nstd      48.192864  \nmin      57.389999  \n25%      90.510002  \n50%     155.970001  \n75%     181.409996  \nmax     230.479996  ",
      "text/html": "<div>\n<style scoped>\n    .dataframe tbody tr th:only-of-type {\n        vertical-align: middle;\n    }\n\n    .dataframe tbody tr th {\n        vertical-align: top;\n    }\n\n    .dataframe thead th {\n        text-align: right;\n    }\n</style>\n<table border=\"1\" class=\"dataframe\">\n  <thead>\n    <tr style=\"text-align: right;\">\n      <th></th>\n      <th>High</th>\n      <th>Low</th>\n      <th>Open</th>\n      <th>Close</th>\n      <th>Volume</th>\n      <th>Adj Close</th>\n    </tr>\n  </thead>\n  <tbody>\n    <tr>\n      <th>count</th>\n      <td>1259.000000</td>\n      <td>1259.000000</td>\n      <td>1259.000000</td>\n      <td>1259.000000</td>\n      <td>1.259000e+03</td>\n      <td>1259.000000</td>\n    </tr>\n    <tr>\n      <th>mean</th>\n      <td>143.072923</td>\n      <td>139.615778</td>\n      <td>141.463369</td>\n      <td>141.377832</td>\n      <td>1.680998e+07</td>\n      <td>141.377832</td>\n    </tr>\n    <tr>\n      <th>std</th>\n      <td>48.732859</td>\n      <td>47.617872</td>\n      <td>48.256866</td>\n      <td>48.192864</td>\n      <td>9.100783e+06</td>\n      <td>48.192864</td>\n    </tr>\n    <tr>\n      <th>min</th>\n      <td>58.650002</td>\n      <td>57.200001</td>\n      <td>57.299999</td>\n      <td>57.389999</td>\n      <td>3.775300e+06</td>\n      <td>57.389999</td>\n    </tr>\n    <tr>\n      <th>25%</th>\n      <td>91.570000</td>\n      <td>89.535000</td>\n      <td>90.514999</td>\n      <td>90.510002</td>\n      <td>1.099705e+07</td>\n      <td>90.510002</td>\n    </tr>\n    <tr>\n      <th>50%</th>\n      <td>158.050003</td>\n      <td>153.100006</td>\n      <td>155.470001</td>\n      <td>155.970001</td>\n      <td>1.481240e+07</td>\n      <td>155.970001</td>\n    </tr>\n    <tr>\n      <th>75%</th>\n      <td>183.610001</td>\n      <td>179.125000</td>\n      <td>181.254997</td>\n      <td>181.409996</td>\n      <td>2.003585e+07</td>\n      <td>181.409996</td>\n    </tr>\n    <tr>\n      <th>max</th>\n      <td>231.139999</td>\n      <td>227.039993</td>\n      <td>230.050003</td>\n      <td>230.479996</td>\n      <td>9.791410e+07</td>\n      <td>230.479996</td>\n    </tr>\n  </tbody>\n</table>\n</div>"
     },
     "metadata": {},
     "execution_count": 3
    }
   ],
   "source": [
    "alibaba.describe() # 基本统计信息"
   ]
  },
  {
   "cell_type": "code",
   "execution_count": 4,
   "metadata": {},
   "outputs": [
    {
     "output_type": "stream",
     "name": "stdout",
     "text": "<class 'pandas.core.frame.DataFrame'>\nDatetimeIndex: 1259 entries, 2015-06-01 to 2020-05-29\nData columns (total 6 columns):\n #   Column     Non-Null Count  Dtype  \n---  ------     --------------  -----  \n 0   High       1259 non-null   float64\n 1   Low        1259 non-null   float64\n 2   Open       1259 non-null   float64\n 3   Close      1259 non-null   float64\n 4   Volume     1259 non-null   int64  \n 5   Adj Close  1259 non-null   float64\ndtypes: float64(5), int64(1)\nmemory usage: 68.9 KB\n"
    }
   ],
   "source": [
    "alibaba.info() # 基本统计信息"
   ]
  },
  {
   "cell_type": "code",
   "execution_count": null,
   "metadata": {},
   "outputs": [],
   "source": []
  }
 ],
 "metadata": {
  "kernelspec": {
   "display_name": "Python 3.7.7 64-bit ('base': conda)",
   "language": "python",
   "name": "python37764bitbaseconda4fcefeee95894d09be67d1dd9494ee95"
  },
  "language_info": {
   "codemirror_mode": {
    "name": "ipython",
    "version": 3
   },
   "file_extension": ".py",
   "mimetype": "text/x-python",
   "name": "python",
   "nbconvert_exporter": "python",
   "pygments_lexer": "ipython3",
   "version": "3.7.7-final"
  }
 },
 "nbformat": 4,
 "nbformat_minor": 2
}